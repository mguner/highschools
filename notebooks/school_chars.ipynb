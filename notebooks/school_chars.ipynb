{
 "cells": [
  {
   "cell_type": "code",
   "execution_count": 2,
   "metadata": {},
   "outputs": [],
   "source": [
    "import pandas as pd"
   ]
  },
  {
   "cell_type": "code",
   "execution_count": 3,
   "metadata": {},
   "outputs": [
    {
     "name": "stderr",
     "output_type": "stream",
     "text": [
      "/opt/anaconda3/lib/python3.8/site-packages/IPython/core/interactiveshell.py:3165: DtypeWarning: Columns (2,6) have mixed types.Specify dtype option on import or set low_memory=False.\n",
      "  has_raised = await self.run_ast_nodes(code_ast.body, cell_name,\n"
     ]
    }
   ],
   "source": [
    "sch_chars = pd.read_csv(\"../data/2017-18-crdc-data-corrected-publication 2/2017-18 Public-Use Files/Data/SCH/CRDC/CSV/School Characteristics.csv\")"
   ]
  },
  {
   "cell_type": "code",
   "execution_count": 6,
   "metadata": {},
   "outputs": [
    {
     "data": {
      "text/plain": [
       "(1414, 32)"
      ]
     },
     "execution_count": 6,
     "metadata": {},
     "output_type": "execute_result"
    }
   ],
   "source": [
    "md_sch_chars = sch_chars[sch_chars.LEA_STATE == 'MD']\n",
    "md_sch_chars.shape"
   ]
  },
  {
   "cell_type": "markdown",
   "metadata": {},
   "source": [
    "# TODOs:\n",
    "\n",
    "## Step-I: Subset to highschools in MD\n",
    "- From 'md_sch_chars' select only on 'High Schools'. \n",
    "- It looks like you can use 'SCH-GRADE_G10, SCH-GRADE_G11, SCH-GRADE_G12' columns but make sure that you are not missing anything.\n",
    "- Make sure that you read 'School Characteristics' tab from '2017-18 CRDC File Structure.xlsx'\n",
    "\n",
    "## Step-II:\n",
    "- Create an EDA notebook with this highschool data. \n",
    "- Some examples of questions you might want to answer (this is not a full list!):\n",
    "    - What is a magnet program and how many of these high schools are magnet programs?\n",
    "    - What is special education school and how many HS are special education school?\n",
    "    - How many of these HS are Juvenile Justice Facility?\n",
    "\n",
    "## Final Step:\n",
    "- Save the final dataset (contains only MD highschools) with the following columns\n",
    "    - School Name\n",
    "    - JJ indicator (if very few of the HS's are JJ then we can omit this variable)\n",
    "    - LEAID\n",
    "    - SCHID\n",
    "    - COMBOKEY\n",
    "\n",
    "Your code should make the necessary selections, transformations etc. and save the final dataframe to 'data/interim/md_hs.csv'\n",
    "\n",
    "\n",
    "    "
   ]
  },
  {
   "cell_type": "markdown",
   "metadata": {},
   "source": []
  }
 ],
 "metadata": {
  "interpreter": {
   "hash": "40d3a090f54c6569ab1632332b64b2c03c39dcf918b08424e98f38b5ae0af88f"
  },
  "kernelspec": {
   "display_name": "Python 3.8.8 ('base')",
   "language": "python",
   "name": "python3"
  },
  "language_info": {
   "codemirror_mode": {
    "name": "ipython",
    "version": 3
   },
   "file_extension": ".py",
   "mimetype": "text/x-python",
   "name": "python",
   "nbconvert_exporter": "python",
   "pygments_lexer": "ipython3",
   "version": "3.8.8"
  },
  "orig_nbformat": 4
 },
 "nbformat": 4,
 "nbformat_minor": 2
}
